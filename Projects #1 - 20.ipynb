{
 "cells": [
  {
   "cell_type": "markdown",
   "metadata": {},
   "source": [
    "# 81 Projects Challenge in 81 Days"
   ]
  },
  {
   "cell_type": "markdown",
   "metadata": {},
   "source": [
    "## The programs are adopted from:\n",
    "\n",
    "THE BIG BOOK OF SMALL PYTHON PROJECTS\n",
    "        81 Easy Practice Programs\n",
    "    by Al Sweigart\n",
    "\n",
    "I will take the concept of the program and add some ideas i have that i think are cool, to extend the program more.\n",
    "\n",
    "This repo provides you with practice examples of how programming concepts are applied, with a collection of  81 games, simulations, and digital art programs."
   ]
  },
  {
   "cell_type": "markdown",
   "metadata": {},
   "source": [
    "## Project #1\n",
    "### Bagels"
   ]
  },
  {
   "cell_type": "markdown",
   "metadata": {},
   "source": [
    "In Bagels, a deductive logic game, you must guess a secret three-digit number  based on clues. The game offers one of the following hints in response to your guess: “Pico” when your guess has a correct digit in the wrong place, “Fermi” when your guess has a correct  digit in the correct place, and “Bagels” if your guess has no correct digits. You have 10 tries to guess the secret number."
   ]
  },
  {
   "cell_type": "code",
   "execution_count": null,
   "metadata": {},
   "outputs": [
    {
     "name": "stdout",
     "output_type": "stream",
     "text": [
      "> 123\n",
      "Pico\n",
      "> 213\n",
      "Pico\n",
      "> 234\n",
      "Fermi\n",
      "> 532\n",
      "PicoPico\n",
      "> 632\n",
      "Pico\n",
      "> 567\n",
      "Pico\n",
      "> 632\n",
      "Fermi\n",
      "> 623\n",
      "Pico\n",
      "> 326\n",
      "Pico\n",
      "> 567\n",
      "Bagels\n",
      "> 789\n",
      "Fermi\n",
      "> 876\n",
      "Pico\n",
      "> 876\n",
      "Bagels\n",
      "> 54\n",
      "> 679\n",
      "Bagels\n",
      "> 657\n",
      "Bagels\n",
      "> 568\n",
      "Pico\n",
      "> 543\n",
      "Bagels\n",
      "> 456\n",
      "Fermi\n",
      "> 654\n",
      "FermiPico\n",
      "> 432\n",
      "Fermi\n"
     ]
    }
   ],
   "source": [
    "import random\n",
    "\n",
    "num_digits = 3\n",
    "max_guesses = 10\n",
    "\n",
    "def main():\n",
    "    \n",
    "    while True:\n",
    "        secret_num = get_secret_num()\n",
    "        \n",
    "        num_guesses = 1\n",
    "        \n",
    "        while num_guesses <= num_digits:\n",
    "            guess = \"\"\n",
    "            \n",
    "            while len(guess) != num_digits or not guess.isdecimal():\n",
    "                guess = input('> ')\n",
    "            \n",
    "            clues = get_clues(guess, secret_num)\n",
    "            print(clues)\n",
    "            num_guesses += 1\n",
    "            \n",
    "            if guess == secret_num:\n",
    "                break\n",
    "            if num_guesses > max_guesses:\n",
    "                print(\"out of guesses\")\n",
    "            \n",
    "\n",
    "def get_secret_num():\n",
    "    numbers = list(\"0123456789\")\n",
    "    random.shuffle(numbers)\n",
    "    \n",
    "    secret_num = ''\n",
    "    \n",
    "    for i in range(num_digits):\n",
    "        secret_num += str(numbers[i])\n",
    "    return secret_num\n",
    "\n",
    "def get_clues(guess, secret_num):\n",
    "    \n",
    "    if guess == secret_num:\n",
    "        return \"You Got It\"\n",
    "    \n",
    "    clues = []\n",
    "    \n",
    "    for i in range(len(guess)):\n",
    "        if guess[i] == secret_num[i]:\n",
    "            clues.append('Fermi')\n",
    "        elif guess[i] in secret_num:\n",
    "            clues.append('Pico')\n",
    "    if len(clues) == 0:\n",
    "        return \"Bagels\"\n",
    "    else:\n",
    "        clues.sort()\n",
    "    return \"\".join(clues)\n",
    "\n",
    "\n",
    "if __name__ == \"__main__\":\n",
    "    main()"
   ]
  },
  {
   "cell_type": "code",
   "execution_count": 19,
   "metadata": {},
   "outputs": [
    {
     "data": {
      "text/plain": [
       "'615'"
      ]
     },
     "execution_count": 19,
     "metadata": {},
     "output_type": "execute_result"
    }
   ],
   "source": [
    "get_secret_num()"
   ]
  },
  {
   "cell_type": "code",
   "execution_count": null,
   "metadata": {},
   "outputs": [],
   "source": []
  },
  {
   "cell_type": "code",
   "execution_count": 18,
   "metadata": {},
   "outputs": [],
   "source": []
  },
  {
   "cell_type": "code",
   "execution_count": null,
   "metadata": {},
   "outputs": [],
   "source": []
  },
  {
   "cell_type": "code",
   "execution_count": null,
   "metadata": {},
   "outputs": [],
   "source": []
  }
 ],
 "metadata": {
  "kernelspec": {
   "display_name": "Python 3",
   "language": "python",
   "name": "python3"
  },
  "language_info": {
   "codemirror_mode": {
    "name": "ipython",
    "version": 3
   },
   "file_extension": ".py",
   "mimetype": "text/x-python",
   "name": "python",
   "nbconvert_exporter": "python",
   "pygments_lexer": "ipython3",
   "version": "3.8.5"
  }
 },
 "nbformat": 4,
 "nbformat_minor": 4
}
