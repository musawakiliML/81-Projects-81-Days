{
 "cells": [
  {
   "cell_type": "markdown",
   "metadata": {},
   "source": [
    "# 81 Projects Challenge in 81 Days"
   ]
  },
  {
   "cell_type": "markdown",
   "metadata": {},
   "source": [
    "## The programs are adopted from:\n",
    "\n",
    "THE BIG BOOK OF SMALL PYTHON PROJECTS\n",
    "        81 Easy Practice Programs\n",
    "    by Al Sweigart\n",
    "\n",
    "I will take the concept of the program and add some ideas i have that i think are cool, to extend the program more.\n",
    "\n",
    "This repo provides you with practice examples of how programming concepts are applied, with a collection of  81 games, simulations, and digital art programs."
   ]
  },
  {
   "cell_type": "markdown",
   "metadata": {},
   "source": [
    "## Project #1\n",
    "### Bagels"
   ]
  },
  {
   "cell_type": "raw",
   "metadata": {},
   "source": [
    "In Bagels, a deductive logic game, you must guess a secret three-digit number  based on clues. The game offers one of the following hints in response to your guess: “Pico” when your guess has a correct digit in the wrong place, “Fermi” when your guess has a correct  digit in the correct place, and “Bagels” if your guess has no correct digits. You have 10 tries to guess the secret number."
   ]
  }
 ],
 "metadata": {
  "kernelspec": {
   "display_name": "Python 3",
   "language": "python",
   "name": "python3"
  },
  "language_info": {
   "codemirror_mode": {
    "name": "ipython",
    "version": 3
   },
   "file_extension": ".py",
   "mimetype": "text/x-python",
   "name": "python",
   "nbconvert_exporter": "python",
   "pygments_lexer": "ipython3",
   "version": "3.8.5"
  }
 },
 "nbformat": 4,
 "nbformat_minor": 4
}
